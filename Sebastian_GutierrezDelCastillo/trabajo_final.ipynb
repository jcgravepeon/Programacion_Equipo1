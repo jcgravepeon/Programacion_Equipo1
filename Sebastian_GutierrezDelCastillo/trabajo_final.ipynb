{
 "cells": [
  {
   "cell_type": "code",
   "execution_count": 15,
   "id": "9a20f670-579d-41b7-93b1-05fa5e0d4741",
   "metadata": {
    "tags": []
   },
   "outputs": [
    {
     "ename": "AttributeError",
     "evalue": "'DataFrame' object has no attribute 'csv'",
     "output_type": "error",
     "traceback": [
      "\u001b[0;31m---------------------------------------------------------------------------\u001b[0m",
      "\u001b[0;31mAttributeError\u001b[0m                            Traceback (most recent call last)",
      "Cell \u001b[0;32mIn[15], line 6\u001b[0m\n\u001b[1;32m      3\u001b[0m \u001b[38;5;28;01mimport\u001b[39;00m \u001b[38;5;21;01mplotly\u001b[39;00m\u001b[38;5;21;01m.\u001b[39;00m\u001b[38;5;21;01mexpress\u001b[39;00m \u001b[38;5;28;01mas\u001b[39;00m \u001b[38;5;21;01mpx\u001b[39;00m\n\u001b[1;32m      5\u001b[0m \u001b[38;5;66;03m# Crear un conjunto de datos de ejemplo\u001b[39;00m\n\u001b[0;32m----> 6\u001b[0m data \u001b[38;5;241m=\u001b[39m {fulldata2\u001b[38;5;241m.\u001b[39mcsv}\n\u001b[1;32m      8\u001b[0m \u001b[38;5;66;03m# Crear un DataFrame con pandas\u001b[39;00m\n\u001b[1;32m      9\u001b[0m df \u001b[38;5;241m=\u001b[39m pd\u001b[38;5;241m.\u001b[39mDataFrame(fulldata2)\n",
      "File \u001b[0;32m~/anaconda3/lib/python3.11/site-packages/pandas/core/generic.py:5902\u001b[0m, in \u001b[0;36mNDFrame.__getattr__\u001b[0;34m(self, name)\u001b[0m\n\u001b[1;32m   5895\u001b[0m \u001b[38;5;28;01mif\u001b[39;00m (\n\u001b[1;32m   5896\u001b[0m     name \u001b[38;5;129;01mnot\u001b[39;00m \u001b[38;5;129;01min\u001b[39;00m \u001b[38;5;28mself\u001b[39m\u001b[38;5;241m.\u001b[39m_internal_names_set\n\u001b[1;32m   5897\u001b[0m     \u001b[38;5;129;01mand\u001b[39;00m name \u001b[38;5;129;01mnot\u001b[39;00m \u001b[38;5;129;01min\u001b[39;00m \u001b[38;5;28mself\u001b[39m\u001b[38;5;241m.\u001b[39m_metadata\n\u001b[1;32m   5898\u001b[0m     \u001b[38;5;129;01mand\u001b[39;00m name \u001b[38;5;129;01mnot\u001b[39;00m \u001b[38;5;129;01min\u001b[39;00m \u001b[38;5;28mself\u001b[39m\u001b[38;5;241m.\u001b[39m_accessors\n\u001b[1;32m   5899\u001b[0m     \u001b[38;5;129;01mand\u001b[39;00m \u001b[38;5;28mself\u001b[39m\u001b[38;5;241m.\u001b[39m_info_axis\u001b[38;5;241m.\u001b[39m_can_hold_identifiers_and_holds_name(name)\n\u001b[1;32m   5900\u001b[0m ):\n\u001b[1;32m   5901\u001b[0m     \u001b[38;5;28;01mreturn\u001b[39;00m \u001b[38;5;28mself\u001b[39m[name]\n\u001b[0;32m-> 5902\u001b[0m \u001b[38;5;28;01mreturn\u001b[39;00m \u001b[38;5;28mobject\u001b[39m\u001b[38;5;241m.\u001b[39m\u001b[38;5;21m__getattribute__\u001b[39m(\u001b[38;5;28mself\u001b[39m, name)\n",
      "\u001b[0;31mAttributeError\u001b[0m: 'DataFrame' object has no attribute 'csv'"
     ]
    }
   ],
   "source": [
    "# Importar bibliotecas\n",
    "import pandas as pd\n",
    "import plotly.express as px\n",
    "\n",
    "# Crear un conjunto de datos de ejemplo\n",
    "data = {fulldata2.csv}\n",
    "\n",
    "# Crear un DataFrame con pandas\n",
    "df = pd.DataFrame(fulldata2)\n",
    "\n",
    "# Mostrar las primeras filas del DataFrame\n",
    "print(\"fulldata2\")\n",
    "print(df.head())\n",
    "\n",
    "# Estadísticas descriptivas\n",
    "print(\"\\nEstadísticas descriptivas:\")\n",
    "print(df.describe())\n",
    "\n",
    "# Gráfico interactivo de temperatura y humedad a lo largo del tiempo\n",
    "fig_temp_humedad = px.line(df, x='Datetime', y=['Temperatura', 'Humedad'], title='Temperatura y Humedad a lo largo del tiempo')\n",
    "fig_temp_humedad.show()\n",
    "\n",
    "# Histograma interactivo de la presión\n",
    "fig_presion = px.histogram(df, x='Presion', nbins=20, title='Histograma de Presión')\n",
    "fig_presion.show()\n"
   ]
  },
  {
   "cell_type": "code",
   "execution_count": 4,
   "id": "915e4c80-9f8e-4ef1-8795-6a80aaafe074",
   "metadata": {
    "tags": []
   },
   "outputs": [],
   "source": [
    "import numpy as np\n",
    "import pandas as pd\n",
    "import matplotlib.pyplot as plt\n",
    "import os as os \n"
   ]
  },
  {
   "cell_type": "code",
   "execution_count": 6,
   "id": "7ba571eb-a1e6-4b73-a6e1-a62582c085d9",
   "metadata": {
    "tags": []
   },
   "outputs": [],
   "source": [
    "dato1= pd.read_csv(\"2023-10-04.csv\")\n",
    "dato2= pd.read_csv(\"2023-10-05.csv\")\n",
    "dato3= pd.read_csv(\"2023-10-06.csv\")\n",
    "dato4= pd.read_csv(\"2023-10-07.csv\")\n",
    "dato5= pd.read_csv(\"2023-10-08.csv\")\n",
    "dato6= pd.read_csv(\"2023-10-09.csv\")\n",
    "dato7= pd.read_csv(\"2023-10-10.csv\")\n",
    "dato8= pd.read_csv(\"2023-10-11.csv\")\n",
    "dato9= pd.read_csv(\"2023-10-12.csv\")\n",
    "dato10= pd.read_csv(\"2023-10-13.csv\")\n",
    "dato11= pd.read_csv(\"2023-10-14.csv\")\n",
    "dato12= pd.read_csv(\"2023-10-15.csv\")\n",
    "dato13= pd.read_csv(\"2023-10-16.csv\")\n",
    "dato14= pd.read_csv(\"2023-10-17.csv\")\n",
    "dato15= pd.read_csv(\"2023-10-18.csv\")\n",
    "dato16= pd.read_csv(\"2023-10-19.csv\")\n",
    "dato17= pd.read_csv(\"2023-10-20.csv\")\n",
    "dato18= pd.read_csv(\"2023-10-21.csv\")"
   ]
  },
  {
   "cell_type": "code",
   "execution_count": 8,
   "id": "c9f2f601-7551-4065-8c12-569197216b6a",
   "metadata": {
    "tags": []
   },
   "outputs": [],
   "source": [
    "fulldata2= pd.concat([dato1,dato2,dato3,dato4,dato5,dato6,dato7,dato8,dato9,dato10,dato11,dato12,dato13,dato14,dato15,dato16,dato17,dato18])"
   ]
  },
  {
   "cell_type": "code",
   "execution_count": 9,
   "id": "dfee4167-b4ae-439b-a2e5-b32caac49d61",
   "metadata": {
    "tags": []
   },
   "outputs": [],
   "source": [
    "fulldata2.to_csv(\"fulldata2.csv\")"
   ]
  },
  {
   "cell_type": "code",
   "execution_count": 10,
   "id": "8b02271f-c297-47e1-a948-ff8b145f2355",
   "metadata": {
    "tags": []
   },
   "outputs": [
    {
     "data": {
      "text/plain": [
       "array([[<Axes: title={'center': 'Humedad'}>,\n",
       "        <Axes: title={'center': ' Temperatura'}>],\n",
       "       [<Axes: title={'center': 'Presion'}>, <Axes: >]], dtype=object)"
      ]
     },
     "execution_count": 10,
     "metadata": {},
     "output_type": "execute_result"
    },
    {
     "data": {
      "image/png": "[encoded data removed]",
      "text/plain": [
       "<Figure size 640x480 with 4 Axes>"
      ]
     },
     "metadata": {},
     "output_type": "display_data"
    }
   ],
   "source": [
    "fulldata2.hist()"
   ]
  },
  {
   "cell_type": "code",
   "execution_count": null,
   "id": "fa14c321-5af2-4e55-b5d4-4e7bc812bbb1",
   "metadata": {},
   "outputs": [],
   "source": []
  }
 ],
 "metadata": {
  "kernelspec": {
   "display_name": "Python 3 (ipykernel)",
   "language": "python",
   "name": "python3"
  },
  "language_info": {
   "codemirror_mode": {
    "name": "ipython",
    "version": 3
   },
   "file_extension": ".py",
   "mimetype": "text/x-python",
   "name": "python",
   "nbconvert_exporter": "python",
   "pygments_lexer": "ipython3",
   "version": "3.11.4"
  }
 },
 "nbformat": 4,
 "nbformat_minor": 5
}
