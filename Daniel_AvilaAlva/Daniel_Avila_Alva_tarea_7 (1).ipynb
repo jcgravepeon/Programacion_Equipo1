{
 "cells": [
  {
   "cell_type": "markdown",
   "metadata": {
    "id": "msJdnEFNOpQx"
   },
   "source": [
    "# Codigo para captura datos con el arduino raspberry"
   ]
  },
  {
   "cell_type": "markdown",
   "metadata": {
    "id": "1YRleWuwOpOD"
   },
   "source": [
    "### Primero hay que importar los modulos que vamos a utilizar"
   ]
  },
  {
   "cell_type": "markdown",
   "metadata": {
    "id": "hjB-Z8rkOpK9"
   },
   "source": [
    "\n",
    "\n",
    "```\n",
    "from datetime import datetime\n",
    "import os\n",
    "import time\n",
    "from sense_hat import SenseHat\n",
    "```\n",
    "\n"
   ]
  },
  {
   "cell_type": "markdown",
   "metadata": {
    "id": "-Aa6iibtOpHk"
   },
   "source": [
    "### despues creamos una variable con la librería del SenseHat\n",
    "\n",
    "\n",
    "```\n",
    "sense=SenseHat()\n",
    "```\n",
    "\n"
   ]
  },
  {
   "cell_type": "markdown",
   "metadata": {
    "id": "EwGfVMr0OpE0"
   },
   "source": [
    "### Utilizamos un while para crear archivos .csv con los datos registrados y con el orden que queremos\n",
    "\n",
    "\n",
    "```\n",
    "while 1:\n",
    "    namefile=datetime.now().strftime(\"%Y-%m-%d\") + \".csv\"\n",
    "    if not os.path.exists(\"carpeta_donde_guardarlo\"+ namefile):\n",
    "        f=open(\"carpeta_donde_guardarlo\" + namefile, \"w\"\n",
    "        f.write(\"Datetime,Humedad,Temperatura,Presion\\r\\n\")\n",
    "        f.close()\n",
    "```\n",
    "\n"
   ]
  },
  {
   "cell_type": "markdown",
   "metadata": {
    "id": "rcSoxuCeOpBl"
   },
   "source": [
    "### despues utilizamos un else para que en el archivo que ya fue creado llene el .csv con los datos que vaya   recolectando el raspberry, despues se hace un mensaje que ponga ***OK*** y ***T*** y cuanto hay de temperatura y asi con las variables y despues de los mensajes que se apague por 30min y continue otravez con el **else**"
   ]
  },
  {
   "cell_type": "markdown",
   "metadata": {
    "id": "qJ5IsLJPOo5y"
   },
   "source": [
    "\n",
    "\n",
    "```\n",
    "else:\n",
    "    d=open(\"carpeta_donde_se_guardo\" + namefile, \"a\")\n",
    "    d.write(datetime.now().strftime((\"%Y-%m-%d\" %H:%M:%S\")) #Ordena los datos con ese formato\n",
    "    humidity=sense.get_humidity()\n",
    "    temp=sense.get.humidity()\n",
    "    pressure=sense.get_pressure()\n",
    "    d.write(\",{:.2f},{:.2f},{:.2f}\\r\\n\".format(humidity,temp,pressure))\n",
    "    d.close()\n",
    "    print(\"OK\")\n",
    "    message=\"T:\" + str(temp) + \"P:\" str(pressure)+ \"H:\"+str(humidity)\n",
    "    sense.show_message(message,scroll_speed=0.10)\n",
    "    time.sleep(1800)\n",
    "```\n",
    "\n"
   ]
  }
 ],
 "metadata": {
  "colab": {
   "provenance": []
  },
  "kernelspec": {
   "display_name": "Python 3 (ipykernel)",
   "language": "python",
   "name": "python3"
  },
  "language_info": {
   "codemirror_mode": {
    "name": "ipython",
    "version": 3
   },
   "file_extension": ".py",
   "mimetype": "text/x-python",
   "name": "python",
   "nbconvert_exporter": "python",
   "pygments_lexer": "ipython3",
   "version": "3.11.5"
  }
 },
 "nbformat": 4,
 "nbformat_minor": 4
}
